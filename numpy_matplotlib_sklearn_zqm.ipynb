{
  "nbformat": 4,
  "nbformat_minor": 0,
  "metadata": {
    "kernelspec": {
      "name": "python3",
      "display_name": "Python 3"
    },
    "language_info": {
      "codemirror_mode": {
        "name": "ipython",
        "version": 3
      },
      "file_extension": ".py",
      "mimetype": "text/x-python",
      "name": "python",
      "nbconvert_exporter": "python",
      "pygments_lexer": "ipython3",
      "version": "3.6.4"
    },
    "colab": {
      "name": "numpy_matplotlib_sklearn.ipynb",
      "provenance": [],
      "collapsed_sections": []
    },
    "accelerator": "GPU"
  },
  "cells": [
    {
      "cell_type": "markdown",
      "metadata": {
        "id": "E-7RGS_6-Y8F",
        "colab_type": "text"
      },
      "source": [
        "# Numpy, Matplotlib and Sklearn Tutorial"
      ]
    },
    {
      "cell_type": "markdown",
      "metadata": {
        "collapsed": true,
        "id": "Yf27umXm-Y95",
        "colab_type": "text"
      },
      "source": [
        "#### Q1:\n",
        "Please use the logistic regression(default parameters) in sklearn to classify the data above, and print the training accuracy and test accuracy."
      ]
    },
    {
      "cell_type": "code",
      "metadata": {
        "scrolled": true,
        "id": "_VGDkzV8-Y98",
        "colab_type": "code",
        "colab": {}
      },
      "source": [
        "from sklearn.datasets import fetch_mldata\n",
        "# split data to train and test (for faster calculation, just use 1/10 data)\n",
        "from sklearn.model_selection import train_test_split\n",
        "from sklearn.linear_model import LogisticRegression\n",
        "from sklearn import metrics\n",
        "from sklearn.metrics import accuracy_score\n",
        "\n",
        "# download and read mnist\n",
        "mnist = fetch_mldata('MNIST original', data_home='./')\n",
        "\n",
        "# 'mnist.data' is 70k x 784 array, each row represents the pixels from a 28x28=784 image\n",
        "# 'mnist.target' is 70k x 1 array, each row represents the target class of the corresponding image\n",
        "images = mnist.data\n",
        "targets = mnist.target\n",
        "\n",
        "# make the value of pixels from [0, 255] to [0, 1] for further process\n",
        "X = mnist.data / 255.\n",
        "Y = mnist.target\n",
        "\n",
        "X_train, X_test, Y_train, Y_test = train_test_split(X[::10], Y[::10], test_size=1000)\n",
        "\n",
        "clf=LogisticRegression();\n",
        "clf.fit(X_train,Y_train)\n",
        "\n",
        "prediction_train=clf.predict(X_train)\n",
        "train_accuracy=accuracy_score(Y_train,prediction_train)\n",
        "prediction_test=clf.predict(X_test)\n",
        "test_accuracy=accuracy_score(Y_test,prediction_test)\n",
        "\n",
        "print('Training accuracy: %0.2f%%' % (train_accuracy*100))\n",
        "print('Testing accuracy: %0.2f%%' % (test_accuracy*100))"
      ],
      "execution_count": 0,
      "outputs": []
    },
    {
      "cell_type": "markdown",
      "metadata": {
        "id": "H0w7tNG6GulZ",
        "colab_type": "text"
      },
      "source": [
        "Training accuracy: 95.67%\n",
        "\n",
        "Testing accuracy: 90.40%"
      ]
    },
    {
      "cell_type": "markdown",
      "metadata": {
        "id": "wJVA5Dd6-Y-I",
        "colab_type": "text"
      },
      "source": [
        "#### Q2:\n",
        "Please use the naive bayes(Bernoulli, default parameters) in sklearn to classify the data above, and print the training accuracy and test accuracy."
      ]
    },
    {
      "cell_type": "code",
      "metadata": {
        "id": "soz05gBJ-Y-K",
        "colab_type": "code",
        "colab": {}
      },
      "source": [
        "# TODO:use naive bayes\n",
        "from sklearn.naive_bayes import BernoulliNB\n",
        "from sklearn.datasets import fetch_mldata\n",
        "from sklearn.model_selection import train_test_split\n",
        "from sklearn.metrics import accuracy_score\n",
        "\n",
        "mnist = fetch_mldata('MNIST original', data_home='./')\n",
        "\n",
        "# 'mnist.data' is 70k x 784 array, each row represents the pixels from a 28x28=784 image\n",
        "# 'mnist.target' is 70k x 1 array, each row represents the target class of the corresponding image\n",
        "images = mnist.data\n",
        "targets = mnist.target\n",
        "\n",
        "# make the value of pixels from [0, 255] to [0, 1] for further process\n",
        "X = mnist.data / 255.\n",
        "Y = mnist.target\n",
        "\n",
        "X_train, X_test, Y_train, Y_test = train_test_split(X[::10], Y[::10], test_size=1000)\n",
        "clf=BernoulliNB();\n",
        "clf.fit(X_train,Y_train)\n",
        "\n",
        "prediction_train=clf.predict(X_train)\n",
        "train_accuracy=accuracy_score(Y_train,prediction_train)\n",
        "prediction_test=clf.predict(X_test)\n",
        "test_accuracy=accuracy_score(Y_test,prediction_test)\n",
        "\n",
        "print('Training accuracy: %0.2f%%' % (train_accuracy*100))\n",
        "print('Testing accuracy: %0.2f%%' % (test_accuracy*100))"
      ],
      "execution_count": 0,
      "outputs": []
    },
    {
      "cell_type": "markdown",
      "metadata": {
        "id": "o8Yh1_5pHAi4",
        "colab_type": "text"
      },
      "source": [
        " Training accuracy: 83.80%\n",
        " \n",
        " Testing accuracy: 84.50%"
      ]
    },
    {
      "cell_type": "markdown",
      "metadata": {
        "id": "91bY6YTD-Y-t",
        "colab_type": "text"
      },
      "source": [
        "#### Q3:\n",
        "Please use the support vector machine(default parameters) in sklearn to classify the data above, and print the training accuracy and test accuracy."
      ]
    },
    {
      "cell_type": "code",
      "metadata": {
        "id": "9_slzPHC-Y_H",
        "colab_type": "code",
        "colab": {}
      },
      "source": [
        "# TODO:use support vector machine\n",
        "from sklearn.datasets import fetch_mldata\n",
        "from sklearn.model_selection import train_test_split\n",
        "from sklearn.metrics import accuracy_score\n",
        "from sklearn.svm import LinearSVC\n",
        "\n",
        "mnist = fetch_mldata('MNIST original', data_home='./')\n",
        "\n",
        "# 'mnist.data' is 70k x 784 array, each row represents the pixels from a 28x28=784 image\n",
        "# 'mnist.target' is 70k x 1 array, each row represents the target class of the corresponding image\n",
        "images = mnist.data\n",
        "targets = mnist.target\n",
        "\n",
        "# make the value of pixels from [0, 255] to [0, 1] for further process\n",
        "X = mnist.data / 255.\n",
        "Y = mnist.target\n",
        "\n",
        "X_train, X_test, Y_train, Y_test = train_test_split(X[::10], Y[::10], test_size=1000)\n",
        "\n",
        "lsvc=LinearSVC()\n",
        "lsvc.fit(X_train,Y_train)\n",
        "\n",
        "prediction_train=lsvc.predict(X_train)\n",
        "train_accuracy=accuracy_score(Y_train,prediction_train)\n",
        "prediction_test=lsvc.predict(X_test)\n",
        "test_accuracy=accuracy_score(Y_test,prediction_test)\n",
        "\n",
        "print('Training accuracy: %0.2f%%' % (train_accuracy*100))\n",
        "print('Testing accuracy: %0.2f%%' % (test_accuracy*100))"
      ],
      "execution_count": 0,
      "outputs": []
    },
    {
      "cell_type": "markdown",
      "metadata": {
        "id": "bR0C-wwlHOjI",
        "colab_type": "text"
      },
      "source": [
        "Training accuracy: 98.38%\n",
        "\n",
        "Testing accuracy: 85.50%"
      ]
    },
    {
      "cell_type": "markdown",
      "metadata": {
        "id": "hwMuDXda-Y_V",
        "colab_type": "text"
      },
      "source": [
        "#### Q4:\n",
        "Please adjust the parameters of SVM to increase the testing accuracy, and print the training accuracy and test accuracy."
      ]
    },
    {
      "cell_type": "code",
      "metadata": {
        "id": "svr1Mq9z-Y_c",
        "colab_type": "code",
        "colab": {}
      },
      "source": [
        "from sklearn.datasets import fetch_mldata\n",
        "from sklearn.model_selection import train_test_split\n",
        "from sklearn.metrics import accuracy_score\n",
        "from sklearn.svm import LinearSVC\n",
        "\n",
        "mnist = fetch_mldata('MNIST original', data_home='./')\n",
        "\n",
        "# 'mnist.data' is 70k x 784 array, each row represents the pixels from a 28x28=784 image\n",
        "# 'mnist.target' is 70k x 1 array, each row represents the target class of the corresponding image\n",
        "images = mnist.data\n",
        "targets = mnist.target\n",
        "\n",
        "# make the value of pixels from [0, 255] to [0, 1] for further process\n",
        "X = mnist.data / 255.\n",
        "Y = mnist.target\n",
        "\n",
        "X_train, X_test, Y_train, Y_test = train_test_split(X[::10], Y[::10], test_size=1000)\n",
        "\n",
        "lsvc=LinearSVC(C=0.01, class_weight=None, dual=True, fit_intercept=True,\n",
        "     intercept_scaling=1, loss='squared_hinge', max_iter=1000,\n",
        "     multi_class='ovr', penalty='l2', random_state=0, tol=1e-05, verbose=0)\n",
        "lsvc.fit(X_train,Y_train)\n",
        "\n",
        "prediction_train=lsvc.predict(X_train)\n",
        "train_accuracy=accuracy_score(Y_train,prediction_train)\n",
        "prediction_test=lsvc.predict(X_test)\n",
        "test_accuracy=accuracy_score(Y_test,prediction_test)\n",
        "\n",
        "print('Training accuracy: %0.2f%%' % (train_accuracy*100))\n",
        "print('Testing accuracy: %0.2f%%' % (test_accuracy*100))"
      ],
      "execution_count": 0,
      "outputs": []
    },
    {
      "cell_type": "markdown",
      "metadata": {
        "id": "H2cxv-wTIJo4",
        "colab_type": "text"
      },
      "source": [
        "Training accuracy: 92.85%\n",
        "\n",
        "Testing accuracy: 91.20%"
      ]
    }
  ]
}